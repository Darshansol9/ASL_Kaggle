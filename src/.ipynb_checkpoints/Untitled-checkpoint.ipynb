{
 "cells": [
  {
   "cell_type": "code",
   "execution_count": 10,
   "metadata": {},
   "outputs": [
    {
     "data": {
      "text/plain": [
       "(6, 480, 640, 3)"
      ]
     },
     "execution_count": 10,
     "metadata": {},
     "output_type": "execute_result"
    }
   ],
   "source": [
    "import numpy as np\n",
    "import cv2\n",
    "\n",
    "cap = cv2.VideoCapture(0)\n",
    "\n",
    "frames = []\n",
    "while(cap.isOpened()):\n",
    "    ret, frame = cap.read()\n",
    "    frames.append(frame)\n",
    "    gray = cv2.cvtColor(frame, cv2.COLOR_BGR2GRAY)\n",
    "    cv2.imshow('frame',gray)\n",
    "    if cv2.waitKey(1) & 0xFF == ord('q'):\n",
    "        break\n",
    "        \n",
    "    if(len(frames) > 5):\n",
    "        frames = frames[-5:]\n",
    "        \n",
    "cap.release()\n",
    "cv2.destroyAllWindows()\n",
    "\n",
    "frames = np.array(frames[-5:])\n",
    "frames.shape"
   ]
  },
  {
   "cell_type": "code",
   "execution_count": 23,
   "metadata": {},
   "outputs": [],
   "source": [
    "import numpy as np\n",
    "import config\n",
    "import pandas as pd\n",
    "import joblib\n",
    "import albumentations\n",
    "from PIL import Image\n",
    "import torch\n",
    "import models\n",
    "import dispacter\n",
    "\n",
    "class ASIDataSetTest:\n",
    "\n",
    "    def __init__(self,img_height,img_width,mean,std,file_name=None):\n",
    "\n",
    "        img_read = Image.open(config.TEST_PATH+f'/{file_name}.jpg')\n",
    "        self.image = np.asarray(img_read)[None,:,:,:]\n",
    "        self.aug = albumentations.Compose([\n",
    "                albumentations.Resize(img_height,img_width,always_apply=True),\n",
    "                albumentations.Normalize(mean,std,always_apply=True)\n",
    "            ])\n",
    "\n",
    "    def __len__(self):\n",
    "        return len(self.image)\n",
    "\n",
    "    def __getitem__(self,item):\n",
    "\n",
    "        image = self.image[item,:]\n",
    "        image = Image.fromarray(image).convert('RGB')\n",
    "        image = self.aug(image=np.array(image))['image']\n",
    "        image = np.transpose(image,(2,0,1)).astype(np.float)\n",
    "        return {\n",
    "            'image':torch.tensor(image,dtype=torch.float),\n",
    "        }"
   ]
  },
  {
   "cell_type": "code",
   "execution_count": 25,
   "metadata": {},
   "outputs": [
    {
     "name": "stdout",
     "output_type": "stream",
     "text": [
      "tensor([30], device='cuda:0')\n",
      "Output Label is  u\n"
     ]
    }
   ],
   "source": [
    "def get_inverse_tranform():\n",
    "    \n",
    "    df = pd.read_csv('D:\\courses\\kaggle_dl_proj\\input\\data.csv')\n",
    "    dict_inverse = {}\n",
    "    for idx in range(len(df)):\n",
    "        label_encode = df.loc[idx,'label_encoded']\n",
    "        label_og = df.loc[idx,'label']\n",
    "        \n",
    "        if(label_encode not in dict_inverse):\n",
    "            dict_inverse[label_encode] = label_og\n",
    "            \n",
    "    return dict_inverse\n",
    "    \n",
    "DEVICE = config.DEVICE\n",
    "dataset = ASIDataSetTest(\n",
    "                        img_height=config.IMG_HEIGHT,\n",
    "                        img_width = config.IMG_WIDTH,\n",
    "                        mean = config.MODEL_MEAN,\n",
    "                        std = config.MODEL_STD,\n",
    "                        file_name = 'hand1_9_bot_seg_1_cropped'\n",
    "                        )\n",
    "data_loader = torch.utils.data.DataLoader(dataset,\n",
    "                                          batch_size = config.TEST_BATCH_SIZE,\n",
    "                                          shuffle=False\n",
    "                                         )\n",
    "dict_inverse = get_inverse_tranform()\n",
    "model = dispacter.MODEL_DISPATCHER[config.BASE_MODEL](pretrained=True)\n",
    "model.state_dict(torch.load(r'D:\\courses\\kaggle_dl_proj\\resnet34_FOLD3.bin'))\n",
    "model.to(DEVICE)\n",
    "model.eval()\n",
    "\n",
    "for bi,d in enumerate(data_loader):\n",
    "    \n",
    "    with torch.no_grad():\n",
    "        image = d['image']\n",
    "        image = image.to(DEVICE,dtype=torch.float)\n",
    "        output = model(image)\n",
    "        _,pred = torch.max(output.data,1)\n",
    "        print(pred)\n",
    "        print('Output Label is ',dict_inverse[pred.item()])\n",
    "    "
   ]
  },
  {
   "cell_type": "code",
   "execution_count": null,
   "metadata": {},
   "outputs": [],
   "source": []
  },
  {
   "cell_type": "code",
   "execution_count": null,
   "metadata": {},
   "outputs": [],
   "source": []
  }
 ],
 "metadata": {
  "kernelspec": {
   "display_name": "Python 3",
   "language": "python",
   "name": "python3"
  },
  "language_info": {
   "codemirror_mode": {
    "name": "ipython",
    "version": 3
   },
   "file_extension": ".py",
   "mimetype": "text/x-python",
   "name": "python",
   "nbconvert_exporter": "python",
   "pygments_lexer": "ipython3",
   "version": "3.8.5"
  }
 },
 "nbformat": 4,
 "nbformat_minor": 4
}
